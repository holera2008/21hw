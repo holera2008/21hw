{
  "nbformat": 4,
  "nbformat_minor": 0,
  "metadata": {
    "colab": {
      "provenance": [],
      "authorship_tag": "ABX9TyNt4JTUHG9+lDZCapeCV3YP",
      "include_colab_link": true
    },
    "kernelspec": {
      "name": "python3",
      "display_name": "Python 3"
    },
    "language_info": {
      "name": "python"
    }
  },
  "cells": [
    {
      "cell_type": "markdown",
      "metadata": {
        "id": "view-in-github",
        "colab_type": "text"
      },
      "source": [
        "<a href=\"https://colab.research.google.com/github/holera2008/21hw/blob/main/hw21.ipynb\" target=\"_parent\"><img src=\"https://colab.research.google.com/assets/colab-badge.svg\" alt=\"Open In Colab\"/></a>"
      ]
    },
    {
      "cell_type": "code",
      "execution_count": 1,
      "metadata": {
        "colab": {
          "base_uri": "https://localhost:8080/"
        },
        "id": "RmMPAZVWgCad",
        "outputId": "16da7ef9-5e55-4f0e-b242-aa41a583cd2a"
      },
      "outputs": [
        {
          "output_type": "stream",
          "name": "stdout",
          "text": [
            "85.0\n",
            "90.0\n",
            "95.0\n"
          ]
        }
      ],
      "source": [
        "def discount_price(discount):\n",
        "    def discounter(price):\n",
        "        result = price - price*discount\n",
        "        return result\n",
        "    return discounter\n",
        "\n",
        "if __name__ == '__main__':\n",
        "    cost_15 = discount_price(0.15)\n",
        "    cost_10 = discount_price(0.10)\n",
        "    cost_05 = discount_price(0.05)\n",
        "\n",
        "    price = 100\n",
        "    print(cost_15(price))\n",
        "    print(cost_10(price))\n",
        "    print(cost_05(price))"
      ]
    }
  ]
}